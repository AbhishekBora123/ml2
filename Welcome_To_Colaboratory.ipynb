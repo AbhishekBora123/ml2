{
  "nbformat": 4,
  "nbformat_minor": 0,
  "metadata": {
    "colab": {
      "name": "Welcome To Colaboratory",
      "provenance": [],
      "collapsed_sections": []
    },
    "kernelspec": {
      "display_name": "Python 3",
      "name": "python3"
    }
  },
  "cells": [
    {
      "cell_type": "code",
      "metadata": {
        "colab": {
          "base_uri": "https://localhost:8080/"
        },
        "id": "4g2ZxqWcYwk2",
        "outputId": "d4da1596-b0db-445c-a01b-4520af30642c"
      },
      "source": [
        "from google.colab import drive\n",
        "drive.mount('/content/drive',force_remount=True)"
      ],
      "execution_count": 11,
      "outputs": [
        {
          "output_type": "stream",
          "name": "stdout",
          "text": [
            "Mounted at /content/drive\n"
          ]
        }
      ]
    },
    {
      "cell_type": "code",
      "metadata": {
        "colab": {
          "base_uri": "https://localhost:8080/"
        },
        "id": "fB4HrtbBbVgy",
        "outputId": "39ad070d-7c0f-402d-a340-616a73ace6c8"
      },
      "source": [
        "!ls drive/MyDrive/zs/"
      ],
      "execution_count": 12,
      "outputs": [
        {
          "output_type": "stream",
          "name": "stdout",
          "text": [
            "test_file.csv  train_file.csv\n"
          ]
        }
      ]
    },
    {
      "cell_type": "code",
      "metadata": {
        "colab": {
          "base_uri": "https://localhost:8080/"
        },
        "id": "bvBqeiz4cDRI",
        "outputId": "8efee747-564c-414a-e1e3-7b92c81620c3"
      },
      "source": [
        "%cd drive/MyDrive/zs/"
      ],
      "execution_count": 14,
      "outputs": [
        {
          "output_type": "stream",
          "name": "stdout",
          "text": [
            "/content/drive/MyDrive/zs\n"
          ]
        }
      ]
    },
    {
      "cell_type": "code",
      "metadata": {
        "id": "Z9q5882RcUj1"
      },
      "source": [
        "import pandas as pd\n",
        "import numpy as np\n",
        "import matplotlib.pyplot as plt\n",
        "import seaborn as sns\n",
        "import scipy.stats as stats\n",
        "from sklearn.externals import joblib \n",
        "import nltk\n",
        "from nltk.corpus import stopwords\n",
        "import re\n",
        "from xgboost import XGBRegressor\n",
        "import xgboost as xgb\n",
        "from sklearn.pipeline import Pipeline\n",
        "from sklearn.feature_extraction.text import CountVectorizer\n",
        "from sklearn.feature_extraction.text import TfidfTransformer\n",
        "from sklearn.model_selection import GridSearchCV\n",
        "from sklearn.naive_bayes import MultinomialNB\n",
        "import seaborn as sns\n",
        "from sklearn.multioutput import MultiOutputRegressor\n",
        "from sklearn.ensemble import RandomForestRegressor\n",
        "from spacy.lang.en import English\n",
        "from spacy.lang.en.stop_words import STOP_WORDS\n",
        "from sklearn.base import TransformerMixin\n",
        "from sklearn.feature_extraction.text import TfidfVectorizer \n",
        "from sklearn.feature_extraction.text import TfidfTransformer\n",
        "stop_words = STOP_WORDS\n",
        "import string\n",
        "punctuations = string.punctuation\n",
        "from sklearn.feature_extraction.text import HashingVectorizer"
      ],
      "execution_count": 16,
      "outputs": []
    },
    {
      "cell_type": "code",
      "metadata": {
        "id": "jerRQ67bc9Om"
      },
      "source": [
        "train = pd.read_csv('/content/drive/MyDrive/zs/train_file.csv')\n",
        "test = pd.read_csv('/content/drive/MyDrive/zs/test_file.csv')"
      ],
      "execution_count": 17,
      "outputs": []
    },
    {
      "cell_type": "code",
      "metadata": {
        "colab": {
          "base_uri": "https://localhost:8080/",
          "height": 677
        },
        "id": "Zmbp9wiDdOp3",
        "outputId": "d10b9b13-52a6-4e55-a573-25ec9b14f39f"
      },
      "source": [
        "train.head()"
      ],
      "execution_count": 18,
      "outputs": [
        {
          "output_type": "execute_result",
          "data": {
            "text/html": [
              "<div>\n",
              "<style scoped>\n",
              "    .dataframe tbody tr th:only-of-type {\n",
              "        vertical-align: middle;\n",
              "    }\n",
              "\n",
              "    .dataframe tbody tr th {\n",
              "        vertical-align: top;\n",
              "    }\n",
              "\n",
              "    .dataframe thead th {\n",
              "        text-align: right;\n",
              "    }\n",
              "</style>\n",
              "<table border=\"1\" class=\"dataframe\">\n",
              "  <thead>\n",
              "    <tr style=\"text-align: right;\">\n",
              "      <th></th>\n",
              "      <th>IDLink</th>\n",
              "      <th>Title</th>\n",
              "      <th>Headline</th>\n",
              "      <th>Source</th>\n",
              "      <th>Topic</th>\n",
              "      <th>PublishDate</th>\n",
              "      <th>Facebook</th>\n",
              "      <th>GooglePlus</th>\n",
              "      <th>LinkedIn</th>\n",
              "      <th>SentimentTitle</th>\n",
              "      <th>SentimentHeadline</th>\n",
              "    </tr>\n",
              "  </thead>\n",
              "  <tbody>\n",
              "    <tr>\n",
              "      <th>0</th>\n",
              "      <td>Tr3CMgRv1N</td>\n",
              "      <td>Obama Lays Wreath at Arlington National Cemetery</td>\n",
              "      <td>Obama Lays Wreath at Arlington National Cemete...</td>\n",
              "      <td>USA TODAY</td>\n",
              "      <td>obama</td>\n",
              "      <td>2002-04-02 00:00:00</td>\n",
              "      <td>-1</td>\n",
              "      <td>-1</td>\n",
              "      <td>-1</td>\n",
              "      <td>0.000000</td>\n",
              "      <td>-0.053300</td>\n",
              "    </tr>\n",
              "    <tr>\n",
              "      <th>1</th>\n",
              "      <td>Wc81vGp8qZ</td>\n",
              "      <td>A Look at the Health of the Chinese Economy</td>\n",
              "      <td>Tim Haywood, investment director business-unit...</td>\n",
              "      <td>Bloomberg</td>\n",
              "      <td>economy</td>\n",
              "      <td>2008-09-20 00:00:00</td>\n",
              "      <td>-1</td>\n",
              "      <td>-1</td>\n",
              "      <td>-1</td>\n",
              "      <td>0.208333</td>\n",
              "      <td>-0.156386</td>\n",
              "    </tr>\n",
              "    <tr>\n",
              "      <th>2</th>\n",
              "      <td>zNGH03CrZH</td>\n",
              "      <td>Nouriel Roubini: Global Economy Not Back to 2008</td>\n",
              "      <td>Nouriel Roubini, NYU professor and chairman at...</td>\n",
              "      <td>Bloomberg</td>\n",
              "      <td>economy</td>\n",
              "      <td>2012-01-28 00:00:00</td>\n",
              "      <td>-1</td>\n",
              "      <td>-1</td>\n",
              "      <td>-1</td>\n",
              "      <td>-0.425210</td>\n",
              "      <td>0.139754</td>\n",
              "    </tr>\n",
              "    <tr>\n",
              "      <th>3</th>\n",
              "      <td>3sM1H0W8ts</td>\n",
              "      <td>Finland GDP Expands In Q4</td>\n",
              "      <td>Finland's economy expanded marginally in the t...</td>\n",
              "      <td>RTT News</td>\n",
              "      <td>economy</td>\n",
              "      <td>2015-03-01 00:06:00</td>\n",
              "      <td>-1</td>\n",
              "      <td>-1</td>\n",
              "      <td>-1</td>\n",
              "      <td>0.000000</td>\n",
              "      <td>0.026064</td>\n",
              "    </tr>\n",
              "    <tr>\n",
              "      <th>4</th>\n",
              "      <td>wUbnxgvqaZ</td>\n",
              "      <td>Tourism, govt spending buoys Thai economy in J...</td>\n",
              "      <td>Tourism and public spending continued to boost...</td>\n",
              "      <td>The Nation - Thailand&amp;#39;s English news</td>\n",
              "      <td>economy</td>\n",
              "      <td>2015-03-01 00:11:00</td>\n",
              "      <td>-1</td>\n",
              "      <td>-1</td>\n",
              "      <td>-1</td>\n",
              "      <td>0.000000</td>\n",
              "      <td>0.141084</td>\n",
              "    </tr>\n",
              "  </tbody>\n",
              "</table>\n",
              "</div>"
            ],
            "text/plain": [
              "       IDLink  ... SentimentHeadline\n",
              "0  Tr3CMgRv1N  ...         -0.053300\n",
              "1  Wc81vGp8qZ  ...         -0.156386\n",
              "2  zNGH03CrZH  ...          0.139754\n",
              "3  3sM1H0W8ts  ...          0.026064\n",
              "4  wUbnxgvqaZ  ...          0.141084\n",
              "\n",
              "[5 rows x 11 columns]"
            ]
          },
          "metadata": {},
          "execution_count": 18
        }
      ]
    },
    {
      "cell_type": "code",
      "metadata": {
        "colab": {
          "base_uri": "https://localhost:8080/",
          "height": 518
        },
        "id": "Qs3j0gMVhebF",
        "outputId": "f225e29e-02aa-4bb7-e6eb-bea52246b79e"
      },
      "source": [
        "test.head()"
      ],
      "execution_count": 19,
      "outputs": [
        {
          "output_type": "execute_result",
          "data": {
            "text/html": [
              "<div>\n",
              "<style scoped>\n",
              "    .dataframe tbody tr th:only-of-type {\n",
              "        vertical-align: middle;\n",
              "    }\n",
              "\n",
              "    .dataframe tbody tr th {\n",
              "        vertical-align: top;\n",
              "    }\n",
              "\n",
              "    .dataframe thead th {\n",
              "        text-align: right;\n",
              "    }\n",
              "</style>\n",
              "<table border=\"1\" class=\"dataframe\">\n",
              "  <thead>\n",
              "    <tr style=\"text-align: right;\">\n",
              "      <th></th>\n",
              "      <th>IDLink</th>\n",
              "      <th>Title</th>\n",
              "      <th>Headline</th>\n",
              "      <th>Source</th>\n",
              "      <th>Topic</th>\n",
              "      <th>PublishDate</th>\n",
              "      <th>Facebook</th>\n",
              "      <th>GooglePlus</th>\n",
              "      <th>LinkedIn</th>\n",
              "    </tr>\n",
              "  </thead>\n",
              "  <tbody>\n",
              "    <tr>\n",
              "      <th>0</th>\n",
              "      <td>tFrqIR6Chj</td>\n",
              "      <td>Sliding Economy: FG fights back with N3trn TSA...</td>\n",
              "      <td>With the 2016 budget now passed by the Nationa...</td>\n",
              "      <td>BusinessDay</td>\n",
              "      <td>economy</td>\n",
              "      <td>2016-03-29 01:41:12</td>\n",
              "      <td>0</td>\n",
              "      <td>0</td>\n",
              "      <td>1</td>\n",
              "    </tr>\n",
              "    <tr>\n",
              "      <th>1</th>\n",
              "      <td>DVAaGErjlF</td>\n",
              "      <td>Microsoft shows how HoloLens can bring distant...</td>\n",
              "      <td>A recent Microsoft Research video shows how th...</td>\n",
              "      <td>Daily Mail</td>\n",
              "      <td>microsoft</td>\n",
              "      <td>2016-03-29 01:41:27</td>\n",
              "      <td>121</td>\n",
              "      <td>2</td>\n",
              "      <td>13</td>\n",
              "    </tr>\n",
              "    <tr>\n",
              "      <th>2</th>\n",
              "      <td>OT9UIZm5M2</td>\n",
              "      <td>Microsoft’s Twitter Robot Praises Hitler, Trum...</td>\n",
              "      <td>* Microsoft teamed with Bing to create TayTwee...</td>\n",
              "      <td>EURweb</td>\n",
              "      <td>microsoft</td>\n",
              "      <td>2016-03-29 01:47:00</td>\n",
              "      <td>12</td>\n",
              "      <td>1</td>\n",
              "      <td>0</td>\n",
              "    </tr>\n",
              "    <tr>\n",
              "      <th>3</th>\n",
              "      <td>lflGp3q2Fj</td>\n",
              "      <td>Flood of Central Bank Moves Can't Get World Ec...</td>\n",
              "      <td>Central bankers have managed to steer the worl...</td>\n",
              "      <td>Bloomberg via Yahoo! Finance</td>\n",
              "      <td>economy</td>\n",
              "      <td>2016-03-29 02:00:00</td>\n",
              "      <td>0</td>\n",
              "      <td>0</td>\n",
              "      <td>3</td>\n",
              "    </tr>\n",
              "    <tr>\n",
              "      <th>4</th>\n",
              "      <td>zDYG0SoovZ</td>\n",
              "      <td>USD/JPY: bears lining up on mixed U.S. economy...</td>\n",
              "      <td>However, this streak of seven-day gains might ...</td>\n",
              "      <td>FXStreet</td>\n",
              "      <td>economy</td>\n",
              "      <td>2016-03-29 02:01:07</td>\n",
              "      <td>3</td>\n",
              "      <td>0</td>\n",
              "      <td>0</td>\n",
              "    </tr>\n",
              "  </tbody>\n",
              "</table>\n",
              "</div>"
            ],
            "text/plain": [
              "       IDLink  ... LinkedIn\n",
              "0  tFrqIR6Chj  ...        1\n",
              "1  DVAaGErjlF  ...       13\n",
              "2  OT9UIZm5M2  ...        0\n",
              "3  lflGp3q2Fj  ...        3\n",
              "4  zDYG0SoovZ  ...        0\n",
              "\n",
              "[5 rows x 9 columns]"
            ]
          },
          "metadata": {},
          "execution_count": 19
        }
      ]
    },
    {
      "cell_type": "code",
      "metadata": {
        "colab": {
          "base_uri": "https://localhost:8080/",
          "height": 394
        },
        "id": "xoYWLGjRh5hc",
        "outputId": "37fa9c1b-4400-494f-ca0c-70dab0cabc54"
      },
      "source": [
        "missing_val = pd.DataFrame(train.isnull().sum())\n",
        "missing_val = missing_val.reset_index()\n",
        "missing_val"
      ],
      "execution_count": 21,
      "outputs": [
        {
          "output_type": "execute_result",
          "data": {
            "text/html": [
              "<div>\n",
              "<style scoped>\n",
              "    .dataframe tbody tr th:only-of-type {\n",
              "        vertical-align: middle;\n",
              "    }\n",
              "\n",
              "    .dataframe tbody tr th {\n",
              "        vertical-align: top;\n",
              "    }\n",
              "\n",
              "    .dataframe thead th {\n",
              "        text-align: right;\n",
              "    }\n",
              "</style>\n",
              "<table border=\"1\" class=\"dataframe\">\n",
              "  <thead>\n",
              "    <tr style=\"text-align: right;\">\n",
              "      <th></th>\n",
              "      <th>index</th>\n",
              "      <th>0</th>\n",
              "    </tr>\n",
              "  </thead>\n",
              "  <tbody>\n",
              "    <tr>\n",
              "      <th>0</th>\n",
              "      <td>IDLink</td>\n",
              "      <td>0</td>\n",
              "    </tr>\n",
              "    <tr>\n",
              "      <th>1</th>\n",
              "      <td>Title</td>\n",
              "      <td>0</td>\n",
              "    </tr>\n",
              "    <tr>\n",
              "      <th>2</th>\n",
              "      <td>Headline</td>\n",
              "      <td>0</td>\n",
              "    </tr>\n",
              "    <tr>\n",
              "      <th>3</th>\n",
              "      <td>Source</td>\n",
              "      <td>175</td>\n",
              "    </tr>\n",
              "    <tr>\n",
              "      <th>4</th>\n",
              "      <td>Topic</td>\n",
              "      <td>0</td>\n",
              "    </tr>\n",
              "    <tr>\n",
              "      <th>5</th>\n",
              "      <td>PublishDate</td>\n",
              "      <td>0</td>\n",
              "    </tr>\n",
              "    <tr>\n",
              "      <th>6</th>\n",
              "      <td>Facebook</td>\n",
              "      <td>0</td>\n",
              "    </tr>\n",
              "    <tr>\n",
              "      <th>7</th>\n",
              "      <td>GooglePlus</td>\n",
              "      <td>0</td>\n",
              "    </tr>\n",
              "    <tr>\n",
              "      <th>8</th>\n",
              "      <td>LinkedIn</td>\n",
              "      <td>0</td>\n",
              "    </tr>\n",
              "    <tr>\n",
              "      <th>9</th>\n",
              "      <td>SentimentTitle</td>\n",
              "      <td>0</td>\n",
              "    </tr>\n",
              "    <tr>\n",
              "      <th>10</th>\n",
              "      <td>SentimentHeadline</td>\n",
              "      <td>0</td>\n",
              "    </tr>\n",
              "  </tbody>\n",
              "</table>\n",
              "</div>"
            ],
            "text/plain": [
              "                index    0\n",
              "0              IDLink    0\n",
              "1               Title    0\n",
              "2            Headline    0\n",
              "3              Source  175\n",
              "4               Topic    0\n",
              "5         PublishDate    0\n",
              "6            Facebook    0\n",
              "7          GooglePlus    0\n",
              "8            LinkedIn    0\n",
              "9      SentimentTitle    0\n",
              "10  SentimentHeadline    0"
            ]
          },
          "metadata": {},
          "execution_count": 21
        }
      ]
    },
    {
      "cell_type": "code",
      "metadata": {
        "colab": {
          "base_uri": "https://localhost:8080/",
          "height": 1000
        },
        "id": "Qgmu91wZid37",
        "outputId": "6725decf-04f0-4929-916e-884c2d31a8db"
      },
      "source": [
        "train[train['Source'].isna()]"
      ],
      "execution_count": 22,
      "outputs": [
        {
          "output_type": "execute_result",
          "data": {
            "text/html": [
              "<div>\n",
              "<style scoped>\n",
              "    .dataframe tbody tr th:only-of-type {\n",
              "        vertical-align: middle;\n",
              "    }\n",
              "\n",
              "    .dataframe tbody tr th {\n",
              "        vertical-align: top;\n",
              "    }\n",
              "\n",
              "    .dataframe thead th {\n",
              "        text-align: right;\n",
              "    }\n",
              "</style>\n",
              "<table border=\"1\" class=\"dataframe\">\n",
              "  <thead>\n",
              "    <tr style=\"text-align: right;\">\n",
              "      <th></th>\n",
              "      <th>IDLink</th>\n",
              "      <th>Title</th>\n",
              "      <th>Headline</th>\n",
              "      <th>Source</th>\n",
              "      <th>Topic</th>\n",
              "      <th>PublishDate</th>\n",
              "      <th>Facebook</th>\n",
              "      <th>GooglePlus</th>\n",
              "      <th>LinkedIn</th>\n",
              "      <th>SentimentTitle</th>\n",
              "      <th>SentimentHeadline</th>\n",
              "    </tr>\n",
              "  </thead>\n",
              "  <tbody>\n",
              "    <tr>\n",
              "      <th>6</th>\n",
              "      <td>lKg2pImhCl</td>\n",
              "      <td>Monday, 29 Feb 2016</td>\n",
              "      <td>RAMALLAH, February 25, 2016 (WAFA) - Palestine...</td>\n",
              "      <td>NaN</td>\n",
              "      <td>palestine</td>\n",
              "      <td>2016-02-28 14:03:00</td>\n",
              "      <td>0</td>\n",
              "      <td>0</td>\n",
              "      <td>0</td>\n",
              "      <td>0.000000</td>\n",
              "      <td>-0.005906</td>\n",
              "    </tr>\n",
              "    <tr>\n",
              "      <th>56</th>\n",
              "      <td>ZOKue2cqfO</td>\n",
              "      <td>Monday, 29 Feb 2016</td>\n",
              "      <td>RAMALLAH, February 29, 2016 (WAFA) - The Gover...</td>\n",
              "      <td>NaN</td>\n",
              "      <td>palestine</td>\n",
              "      <td>2016-03-01 09:29:00</td>\n",
              "      <td>0</td>\n",
              "      <td>0</td>\n",
              "      <td>0</td>\n",
              "      <td>0.000000</td>\n",
              "      <td>0.048546</td>\n",
              "    </tr>\n",
              "    <tr>\n",
              "      <th>111</th>\n",
              "      <td>JXfRvxs0R6</td>\n",
              "      <td>Tuesday, 1 Mar 2016</td>\n",
              "      <td>RAMALLAH, February 29, 2016 (WAFA) - The Gover...</td>\n",
              "      <td>NaN</td>\n",
              "      <td>palestine</td>\n",
              "      <td>2016-03-01 00:15:00</td>\n",
              "      <td>0</td>\n",
              "      <td>0</td>\n",
              "      <td>0</td>\n",
              "      <td>-0.243068</td>\n",
              "      <td>0.048546</td>\n",
              "    </tr>\n",
              "    <tr>\n",
              "      <th>350</th>\n",
              "      <td>A1YOXDsuOO</td>\n",
              "      <td>Human rights situation in Palestinian territor...</td>\n",
              "      <td>In a special meeting convened by the UN Human ...</td>\n",
              "      <td>NaN</td>\n",
              "      <td>palestine</td>\n",
              "      <td>2015-10-28 17:24:00</td>\n",
              "      <td>-1</td>\n",
              "      <td>-1</td>\n",
              "      <td>-1</td>\n",
              "      <td>-0.228299</td>\n",
              "      <td>-0.124931</td>\n",
              "    </tr>\n",
              "    <tr>\n",
              "      <th>409</th>\n",
              "      <td>fO2mYsUg5P</td>\n",
              "      <td>Japan Contributes $5.73M To UNRWA’s Food Assis...</td>\n",
              "      <td>JERUSALEM, October 31, 2015 (WAFA) – The Japan...</td>\n",
              "      <td>NaN</td>\n",
              "      <td>palestine</td>\n",
              "      <td>2015-10-31 04:30:00</td>\n",
              "      <td>-1</td>\n",
              "      <td>-1</td>\n",
              "      <td>-1</td>\n",
              "      <td>0.166667</td>\n",
              "      <td>-0.042878</td>\n",
              "    </tr>\n",
              "    <tr>\n",
              "      <th>...</th>\n",
              "      <td>...</td>\n",
              "      <td>...</td>\n",
              "      <td>...</td>\n",
              "      <td>...</td>\n",
              "      <td>...</td>\n",
              "      <td>...</td>\n",
              "      <td>...</td>\n",
              "      <td>...</td>\n",
              "      <td>...</td>\n",
              "      <td>...</td>\n",
              "      <td>...</td>\n",
              "    </tr>\n",
              "    <tr>\n",
              "      <th>55482</th>\n",
              "      <td>FJZonPtvqe</td>\n",
              "      <td>Monday, 28 Mar 2016</td>\n",
              "      <td>JERICHO, March 28, 2016 (WAFA) – Secretary Gen...</td>\n",
              "      <td>NaN</td>\n",
              "      <td>palestine</td>\n",
              "      <td>2016-03-28 04:35:00</td>\n",
              "      <td>0</td>\n",
              "      <td>0</td>\n",
              "      <td>0</td>\n",
              "      <td>-0.243068</td>\n",
              "      <td>0.068465</td>\n",
              "    </tr>\n",
              "    <tr>\n",
              "      <th>55483</th>\n",
              "      <td>NanKfuNzsO</td>\n",
              "      <td>Saturday, 16 Apr 2016</td>\n",
              "      <td>JERICHO, March 28, 2016 (WAFA) – Secretary Gen...</td>\n",
              "      <td>NaN</td>\n",
              "      <td>palestine</td>\n",
              "      <td>2016-03-28 04:36:00</td>\n",
              "      <td>-1</td>\n",
              "      <td>-1</td>\n",
              "      <td>-1</td>\n",
              "      <td>0.000000</td>\n",
              "      <td>0.068465</td>\n",
              "    </tr>\n",
              "    <tr>\n",
              "      <th>55486</th>\n",
              "      <td>ovFBb4XFt4</td>\n",
              "      <td>Sunday, 17 Apr 2016</td>\n",
              "      <td>JERICHO, March 28, 2016 (WAFA) – Secretary Gen...</td>\n",
              "      <td>NaN</td>\n",
              "      <td>palestine</td>\n",
              "      <td>2016-03-28 05:07:00</td>\n",
              "      <td>-1</td>\n",
              "      <td>-1</td>\n",
              "      <td>-1</td>\n",
              "      <td>0.000000</td>\n",
              "      <td>0.068465</td>\n",
              "    </tr>\n",
              "    <tr>\n",
              "      <th>55620</th>\n",
              "      <td>H2PlLqiX9U</td>\n",
              "      <td>Tuesday, 29 Mar 2016</td>\n",
              "      <td>JERICHO, March 28, 2016 (WAFA) – Secretary Gen...</td>\n",
              "      <td>NaN</td>\n",
              "      <td>palestine</td>\n",
              "      <td>2016-03-28 14:06:00</td>\n",
              "      <td>0</td>\n",
              "      <td>0</td>\n",
              "      <td>0</td>\n",
              "      <td>-0.243068</td>\n",
              "      <td>0.068465</td>\n",
              "    </tr>\n",
              "    <tr>\n",
              "      <th>55726</th>\n",
              "      <td>WRLC4C8Nvj</td>\n",
              "      <td>Monday, 18 Apr 2016</td>\n",
              "      <td>JERICHO, March 28, 2016 (WAFA) – Secretary Gen...</td>\n",
              "      <td>NaN</td>\n",
              "      <td>palestine</td>\n",
              "      <td>2016-03-28 17:35:00</td>\n",
              "      <td>-1</td>\n",
              "      <td>-1</td>\n",
              "      <td>-1</td>\n",
              "      <td>0.000000</td>\n",
              "      <td>0.068465</td>\n",
              "    </tr>\n",
              "  </tbody>\n",
              "</table>\n",
              "<p>175 rows × 11 columns</p>\n",
              "</div>"
            ],
            "text/plain": [
              "           IDLink  ... SentimentHeadline\n",
              "6      lKg2pImhCl  ...         -0.005906\n",
              "56     ZOKue2cqfO  ...          0.048546\n",
              "111    JXfRvxs0R6  ...          0.048546\n",
              "350    A1YOXDsuOO  ...         -0.124931\n",
              "409    fO2mYsUg5P  ...         -0.042878\n",
              "...           ...  ...               ...\n",
              "55482  FJZonPtvqe  ...          0.068465\n",
              "55483  NanKfuNzsO  ...          0.068465\n",
              "55486  ovFBb4XFt4  ...          0.068465\n",
              "55620  H2PlLqiX9U  ...          0.068465\n",
              "55726  WRLC4C8Nvj  ...          0.068465\n",
              "\n",
              "[175 rows x 11 columns]"
            ]
          },
          "metadata": {},
          "execution_count": 22
        }
      ]
    },
    {
      "cell_type": "code",
      "metadata": {
        "id": "JuZZxteojOYS"
      },
      "source": [
        "train.dropna(inplace=True)"
      ],
      "execution_count": 23,
      "outputs": []
    },
    {
      "cell_type": "code",
      "metadata": {
        "id": "ZyzMVtk8lh7M"
      },
      "source": [
        "sns.set(style='whitegrid',palette='Set1')"
      ],
      "execution_count": 35,
      "outputs": []
    },
    {
      "cell_type": "code",
      "metadata": {
        "colab": {
          "base_uri": "https://localhost:8080/",
          "height": 621
        },
        "id": "AM7dlwoelrjH",
        "outputId": "1dac3725-b404-4150-c22a-02afd427319e"
      },
      "source": [
        "_ = sns.jointplot(x='SentimentTitle',y='SentimentHeadline',data=train,kind = 'reg')\n",
        "_.annotate(stats.pearsonr)\n",
        "plt.show()"
      ],
      "execution_count": 36,
      "outputs": [
        {
          "output_type": "error",
          "ename": "AttributeError",
          "evalue": "ignored",
          "traceback": [
            "\u001b[0;31m---------------------------------------------------------------------------\u001b[0m",
            "\u001b[0;31mAttributeError\u001b[0m                            Traceback (most recent call last)",
            "\u001b[0;32m<ipython-input-36-682f3648cba9>\u001b[0m in \u001b[0;36m<module>\u001b[0;34m()\u001b[0m\n\u001b[1;32m      1\u001b[0m \u001b[0m_\u001b[0m \u001b[0;34m=\u001b[0m \u001b[0msns\u001b[0m\u001b[0;34m.\u001b[0m\u001b[0mjointplot\u001b[0m\u001b[0;34m(\u001b[0m\u001b[0mx\u001b[0m\u001b[0;34m=\u001b[0m\u001b[0;34m'SentimentTitle'\u001b[0m\u001b[0;34m,\u001b[0m\u001b[0my\u001b[0m\u001b[0;34m=\u001b[0m\u001b[0;34m'SentimentHeadline'\u001b[0m\u001b[0;34m,\u001b[0m\u001b[0mdata\u001b[0m\u001b[0;34m=\u001b[0m\u001b[0mtrain\u001b[0m\u001b[0;34m,\u001b[0m\u001b[0mkind\u001b[0m \u001b[0;34m=\u001b[0m \u001b[0;34m'reg'\u001b[0m\u001b[0;34m)\u001b[0m\u001b[0;34m\u001b[0m\u001b[0;34m\u001b[0m\u001b[0m\n\u001b[0;32m----> 2\u001b[0;31m \u001b[0m_\u001b[0m\u001b[0;34m.\u001b[0m\u001b[0mannotate\u001b[0m\u001b[0;34m(\u001b[0m\u001b[0mstats\u001b[0m\u001b[0;34m.\u001b[0m\u001b[0mpearsonr\u001b[0m\u001b[0;34m)\u001b[0m\u001b[0;34m\u001b[0m\u001b[0;34m\u001b[0m\u001b[0m\n\u001b[0m\u001b[1;32m      3\u001b[0m \u001b[0mplt\u001b[0m\u001b[0;34m.\u001b[0m\u001b[0mshow\u001b[0m\u001b[0;34m(\u001b[0m\u001b[0;34m)\u001b[0m\u001b[0;34m\u001b[0m\u001b[0;34m\u001b[0m\u001b[0m\n",
            "\u001b[0;31mAttributeError\u001b[0m: 'JointGrid' object has no attribute 'annotate'"
          ]
        },
        {
          "output_type": "display_data",
          "data": {
            "image/png": "[encoded data removed]",
            "text/plain": [
              "<Figure size 432x432 with 3 Axes>"
            ]
          },
          "metadata": {}
        }
      ]
    },
    {
      "cell_type": "code",
      "metadata": {
        "colab": {
          "base_uri": "https://localhost:8080/",
          "height": 899
        },
        "id": "YPDHahUhmOLQ",
        "outputId": "76228a06-bf4e-40f8-ddec-e60d8bc4a0b9"
      },
      "source": [
        "plt.figure(figsize=(16,16))\n",
        "_ = sns.heatmap(train[['Facebook','GooglePlus','LinkedIn','SentimentTitle','SentimentHeadline']].corr(), square=True, cmap='RdYlGn',linewidths=0.5,linecolor='w',annot=True)\n",
        "plt.title('Correlation matrix ')\n",
        "\n",
        "plt.show()"
      ],
      "execution_count": 37,
      "outputs": [
        {
          "output_type": "display_data",
          "data": {
            "image/png": "[encoded data removed]",
            "text/plain": [
              "<Figure size 1152x1152 with 2 Axes>"
            ]
          },
          "metadata": {}
        }
      ]
    },
    {
      "cell_type": "code",
      "metadata": {
        "id": "FYXqWdPWmWwM"
      },
      "source": [
        "nlp = English()\n"
      ],
      "execution_count": 38,
      "outputs": []
    },
    {
      "cell_type": "code",
      "metadata": {
        "id": "66ZRPczZmpL0"
      },
      "source": [
        "def spacy_tokenizer(sentence):\n",
        "    \n",
        "    mytokens = nlp(sentence)   \n",
        "    mytokens = [ word.lemma_.lower().strip() if word.lemma_ != \"-PRON-\" else word.lower_ for word in mytokens ]\n",
        "    mytokens = [ word for word in mytokens if word not in stop_words and word not in punctuations ]\n",
        "    return mytokens"
      ],
      "execution_count": 39,
      "outputs": []
    },
    {
      "cell_type": "code",
      "metadata": {
        "id": "nM5pOkTDnB54"
      },
      "source": [
        "class predictors(TransformerMixin):\n",
        "    def transform(self, X, **transform_params):\n",
        "        \n",
        "        return [clean_text(text) for text in X]\n",
        "\n",
        "    def fit(self, X, y, **fit_params):\n",
        "        return self\n",
        "\n",
        "    def get_params(self, deep=True):\n",
        "        return {}\n",
        "\n",
        "\n",
        "def clean_text(text):\n",
        "   \n",
        "    return text.strip().lower()\n"
      ],
      "execution_count": 40,
      "outputs": []
    },
    {
      "cell_type": "code",
      "metadata": {
        "id": "-duCpsBOnJAd"
      },
      "source": [
        "bow_vector = CountVectorizer(max_features = 100,tokenizer = spacy_tokenizer,ngram_range=(1,2))"
      ],
      "execution_count": 42,
      "outputs": []
    },
    {
      "cell_type": "code",
      "metadata": {
        "id": "0vuMdpMgnjC4"
      },
      "source": [
        "X_train_title = train.loc[:,'Title'].values\n",
        "y_train_title = train.loc[:,['SentimentTitle']].values\n",
        "\n",
        "X_train_headline = train.loc[:,'Headline'].values\n",
        "y_train_headline = train.loc[:,['SentimentHeadline']].values"
      ],
      "execution_count": 43,
      "outputs": []
    },
    {
      "cell_type": "code",
      "metadata": {
        "id": "M4-mQEJRno1D"
      },
      "source": [
        "X_test_title = test.loc[:,'Title'].values\n",
        "X_test_headline = test.loc[:,'Headline'].values"
      ],
      "execution_count": 44,
      "outputs": []
    },
    {
      "cell_type": "code",
      "metadata": {
        "id": "p8SfKmaqnuxB"
      },
      "source": [
        "from sklearn.model_selection import train_test_split\n",
        "x_train_title, x_valid_title, Y_train_title, y_valid_title = train_test_split(X_train_title, y_train_title, shuffle = True, test_size = 0.1)\n",
        "x_train_headline, x_valid_headline, Y_train_headline, y_valid_headline = train_test_split(X_train_headline, y_train_headline, shuffle = True, test_size = 0.1)"
      ],
      "execution_count": 45,
      "outputs": []
    },
    {
      "cell_type": "code",
      "metadata": {
        "id": "E8FtqgMnn985"
      },
      "source": [
        "abs_y_train_title=np.sign(Y_train_title)\n",
        "abs_y_train_headline=np.sign(Y_train_headline)\n",
        "abs_y_valid_title=np.sign(y_valid_title)\n",
        "abs_y_valid_headline=np.sign(y_valid_headline)"
      ],
      "execution_count": 46,
      "outputs": []
    },
    {
      "cell_type": "code",
      "metadata": {
        "id": "ukIv6F2ToHSG"
      },
      "source": [
        "xgboost = MultiOutputRegressor(XGBRegressor())\n",
        "regr_multirf = MultiOutputRegressor(RandomForestRegressor(n_estimators=100,\n",
        "                                                          max_depth=None,\n",
        "                                                          random_state=0))"
      ],
      "execution_count": 47,
      "outputs": []
    },
    {
      "cell_type": "code",
      "metadata": {
        "id": "3lefzV9ooOps"
      },
      "source": [
        "pipe1 = Pipeline([(\"cleaner\", predictors()),\n",
        "                 ('vectorizer', bow_vector),\n",
        "                 ('tfidf',TfidfTransformer()),\n",
        "                 ('regressor', regr_multirf)])\n",
        "\n",
        "pipe2 = Pipeline([(\"cleaner\", predictors()),\n",
        "                 ('vectorizer', bow_vector),\n",
        "                 ('tfidf',TfidfTransformer()),\n",
        "                 ('regressor', regr_multirf)])"
      ],
      "execution_count": 48,
      "outputs": []
    },
    {
      "cell_type": "code",
      "metadata": {
        "colab": {
          "base_uri": "https://localhost:8080/"
        },
        "id": "2uDz0xwIoQ19",
        "outputId": "d278d191-44c7-4914-91c2-7b0ce64f7d98"
      },
      "source": [
        "pipe1.fit(x_train_title,Y_train_title)"
      ],
      "execution_count": 49,
      "outputs": [
        {
          "output_type": "execute_result",
          "data": {
            "text/plain": [
              "Pipeline(memory=None,\n",
              "         steps=[('cleaner', <__main__.predictors object at 0x7f917eb56990>),\n",
              "                ('vectorizer',\n",
              "                 CountVectorizer(analyzer='word', binary=False,\n",
              "                                 decode_error='strict',\n",
              "                                 dtype=<class 'numpy.int64'>, encoding='utf-8',\n",
              "                                 input='content', lowercase=True, max_df=1.0,\n",
              "                                 max_features=100, min_df=1, ngram_range=(1, 2),\n",
              "                                 preprocessor=None, stop_words=None,\n",
              "                                 strip_accents=None,\n",
              "                                 to...\n",
              "                 MultiOutputRegressor(estimator=RandomForestRegressor(bootstrap=True,\n",
              "                                                                      ccp_alpha=0.0,\n",
              "                                                                      criterion='mse',\n",
              "                                                                      max_depth=None,\n",
              "                                                                      max_features='auto',\n",
              "                                                                      max_leaf_nodes=None,\n",
              "                                                                      max_samples=None,\n",
              "                                                                      min_impurity_decrease=0.0,\n",
              "                                                                      min_impurity_split=None,\n",
              "                                                                      min_samples_leaf=1,\n",
              "                                                                      min_samples_split=2,\n",
              "                                                                      min_weight_fraction_leaf=0.0,\n",
              "                                                                      n_estimators=100,\n",
              "                                                                      n_jobs=None,\n",
              "                                                                      oob_score=False,\n",
              "                                                                      random_state=0,\n",
              "                                                                      verbose=0,\n",
              "                                                                      warm_start=False),\n",
              "                                      n_jobs=None))],\n",
              "         verbose=False)"
            ]
          },
          "metadata": {},
          "execution_count": 49
        }
      ]
    },
    {
      "cell_type": "code",
      "metadata": {
        "colab": {
          "base_uri": "https://localhost:8080/"
        },
        "id": "3lN3fiCJozbF",
        "outputId": "018316d7-594b-41d1-a668-3e19df905964"
      },
      "source": [
        "pipe2.fit(x_train_headline,Y_train_headline)"
      ],
      "execution_count": 50,
      "outputs": [
        {
          "output_type": "execute_result",
          "data": {
            "text/plain": [
              "Pipeline(memory=None,\n",
              "         steps=[('cleaner', <__main__.predictors object at 0x7f917eb56450>),\n",
              "                ('vectorizer',\n",
              "                 CountVectorizer(analyzer='word', binary=False,\n",
              "                                 decode_error='strict',\n",
              "                                 dtype=<class 'numpy.int64'>, encoding='utf-8',\n",
              "                                 input='content', lowercase=True, max_df=1.0,\n",
              "                                 max_features=100, min_df=1, ngram_range=(1, 2),\n",
              "                                 preprocessor=None, stop_words=None,\n",
              "                                 strip_accents=None,\n",
              "                                 to...\n",
              "                 MultiOutputRegressor(estimator=RandomForestRegressor(bootstrap=True,\n",
              "                                                                      ccp_alpha=0.0,\n",
              "                                                                      criterion='mse',\n",
              "                                                                      max_depth=None,\n",
              "                                                                      max_features='auto',\n",
              "                                                                      max_leaf_nodes=None,\n",
              "                                                                      max_samples=None,\n",
              "                                                                      min_impurity_decrease=0.0,\n",
              "                                                                      min_impurity_split=None,\n",
              "                                                                      min_samples_leaf=1,\n",
              "                                                                      min_samples_split=2,\n",
              "                                                                      min_weight_fraction_leaf=0.0,\n",
              "                                                                      n_estimators=100,\n",
              "                                                                      n_jobs=None,\n",
              "                                                                      oob_score=False,\n",
              "                                                                      random_state=0,\n",
              "                                                                      verbose=0,\n",
              "                                                                      warm_start=False),\n",
              "                                      n_jobs=None))],\n",
              "         verbose=False)"
            ]
          },
          "metadata": {},
          "execution_count": 50
        }
      ]
    },
    {
      "cell_type": "code",
      "metadata": {
        "id": "KFnzBQ1tqR62"
      },
      "source": [
        "test_pred_title=pipe1.predict(x_valid_title)"
      ],
      "execution_count": 51,
      "outputs": []
    },
    {
      "cell_type": "code",
      "metadata": {
        "id": "zCWc6UQdqWI6"
      },
      "source": [
        "test_pred_headline=pipe2.predict(x_valid_headline)"
      ],
      "execution_count": 52,
      "outputs": []
    },
    {
      "cell_type": "code",
      "metadata": {
        "id": "y74VtOn4qaAz"
      },
      "source": [
        "from sklearn.metrics import mean_squared_error, mean_absolute_error, r2_score"
      ],
      "execution_count": 53,
      "outputs": []
    },
    {
      "cell_type": "code",
      "metadata": {
        "id": "64Y85CG_qdj5"
      },
      "source": [
        "mae_title=mean_absolute_error(y_valid_title,test_pred_title)"
      ],
      "execution_count": 54,
      "outputs": []
    },
    {
      "cell_type": "code",
      "metadata": {
        "id": "OQ6qC0ugqsQs"
      },
      "source": [
        "mae_headline=mean_absolute_error(y_valid_headline,test_pred_headline)"
      ],
      "execution_count": 55,
      "outputs": []
    },
    {
      "cell_type": "code",
      "metadata": {
        "id": "sT_a_IvGq2y5"
      },
      "source": [
        "score=1-((0.4*mae_title)+(0.6*mae_headline))"
      ],
      "execution_count": 56,
      "outputs": []
    },
    {
      "cell_type": "code",
      "metadata": {
        "colab": {
          "base_uri": "https://localhost:8080/"
        },
        "id": "-9c3BSRCq9-r",
        "outputId": "cd247df1-eab7-49fd-8057-357a98d78651"
      },
      "source": [
        "score"
      ],
      "execution_count": 57,
      "outputs": [
        {
          "output_type": "execute_result",
          "data": {
            "text/plain": [
              "0.8987930170693771"
            ]
          },
          "metadata": {},
          "execution_count": 57
        }
      ]
    },
    {
      "cell_type": "code",
      "metadata": {
        "id": "C0eQxLz9rFJK"
      },
      "source": [
        "pred_title=pipe1.predict(X_test_title)"
      ],
      "execution_count": 58,
      "outputs": []
    },
    {
      "cell_type": "code",
      "metadata": {
        "id": "oyRS6weprLYA"
      },
      "source": [
        "pred_headline=pipe2.predict(X_test_headline)"
      ],
      "execution_count": 59,
      "outputs": []
    },
    {
      "cell_type": "code",
      "metadata": {
        "id": "NNiSCPkhrQF3"
      },
      "source": [
        "submission=pd.DataFrame()"
      ],
      "execution_count": 60,
      "outputs": []
    },
    {
      "cell_type": "code",
      "metadata": {
        "id": "86MCD-t2ralO"
      },
      "source": [
        "submission['IDLink']=test['IDLink'].to_list()\n",
        "submission['SentimentTitle']=pred_title\n",
        "submission['SentimentHeadline']=pred_headline"
      ],
      "execution_count": 69,
      "outputs": []
    },
    {
      "cell_type": "code",
      "metadata": {
        "colab": {
          "base_uri": "https://localhost:8080/",
          "height": 206
        },
        "id": "uvsXwIAsriEu",
        "outputId": "a362b0a1-878d-47e0-c0eb-0760947096ce"
      },
      "source": [
        "submission.head()"
      ],
      "execution_count": 65,
      "outputs": [
        {
          "output_type": "execute_result",
          "data": {
            "text/html": [
              "<div>\n",
              "<style scoped>\n",
              "    .dataframe tbody tr th:only-of-type {\n",
              "        vertical-align: middle;\n",
              "    }\n",
              "\n",
              "    .dataframe tbody tr th {\n",
              "        vertical-align: top;\n",
              "    }\n",
              "\n",
              "    .dataframe thead th {\n",
              "        text-align: right;\n",
              "    }\n",
              "</style>\n",
              "<table border=\"1\" class=\"dataframe\">\n",
              "  <thead>\n",
              "    <tr style=\"text-align: right;\">\n",
              "      <th></th>\n",
              "      <th>IDLink</th>\n",
              "      <th>SentimentTitle</th>\n",
              "      <th>SentimentHeadline</th>\n",
              "    </tr>\n",
              "  </thead>\n",
              "  <tbody>\n",
              "    <tr>\n",
              "      <th>0</th>\n",
              "      <td>tFrqIR6Chj</td>\n",
              "      <td>-0.029786</td>\n",
              "      <td>-0.015312</td>\n",
              "    </tr>\n",
              "    <tr>\n",
              "      <th>1</th>\n",
              "      <td>DVAaGErjlF</td>\n",
              "      <td>-0.017265</td>\n",
              "      <td>-0.042925</td>\n",
              "    </tr>\n",
              "    <tr>\n",
              "      <th>2</th>\n",
              "      <td>OT9UIZm5M2</td>\n",
              "      <td>-0.017265</td>\n",
              "      <td>-0.035235</td>\n",
              "    </tr>\n",
              "    <tr>\n",
              "      <th>3</th>\n",
              "      <td>lflGp3q2Fj</td>\n",
              "      <td>0.027624</td>\n",
              "      <td>-0.033447</td>\n",
              "    </tr>\n",
              "    <tr>\n",
              "      <th>4</th>\n",
              "      <td>zDYG0SoovZ</td>\n",
              "      <td>-0.154440</td>\n",
              "      <td>-0.009492</td>\n",
              "    </tr>\n",
              "  </tbody>\n",
              "</table>\n",
              "</div>"
            ],
            "text/plain": [
              "       IDLink  SentimentTitle  SentimentHeadline\n",
              "0  tFrqIR6Chj       -0.029786          -0.015312\n",
              "1  DVAaGErjlF       -0.017265          -0.042925\n",
              "2  OT9UIZm5M2       -0.017265          -0.035235\n",
              "3  lflGp3q2Fj        0.027624          -0.033447\n",
              "4  zDYG0SoovZ       -0.154440          -0.009492"
            ]
          },
          "metadata": {},
          "execution_count": 65
        }
      ]
    },
    {
      "cell_type": "code",
      "metadata": {
        "id": "Jd-2m6kormPa"
      },
      "source": [
        "submission.to_csv('/content/drive/MyDrive/zs/sample_submissions.csv',index=False)"
      ],
      "execution_count": 72,
      "outputs": []
    }
  ]
}